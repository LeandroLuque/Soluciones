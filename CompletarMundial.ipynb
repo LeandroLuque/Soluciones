{
 "cells": [
  {
   "cell_type": "code",
   "execution_count": 293,
   "metadata": {},
   "outputs": [],
   "source": [
    "from random import randint\n",
    "import pandas as pd\n",
    "import math"
   ]
  },
  {
   "cell_type": "code",
   "execution_count": 243,
   "metadata": {},
   "outputs": [],
   "source": [
    "class Album(object):\n",
    "    \"\"\"\n",
    "        Clase que modela un Album de figuritas\n",
    "    \"\"\"\n",
    "    def __init__(self,cantidad):\n",
    "        self.cantidad = cantidad\n",
    "        self.album = []\n",
    "        self.repetidas = []\n",
    "        \n",
    "    def pegar_figurita(self,nro_figurita):\n",
    "        if not nro_figurita in self.album:\n",
    "            self.album.append(nro_figurita)\n",
    "            return True\n",
    "        else:\n",
    "            return False\n",
    "    \n",
    "    def figuritas_pegadas(self):\n",
    "        return len(self.album)\n",
    "    \n",
    "    def completo(self):\n",
    "        return True if len(self.album) == self.cantidad else False\n",
    "    \n",
    "\n",
    "class Sobre(object):\n",
    "    \"\"\"\n",
    "        Clase que modela un sobre de figuritas\n",
    "    \"\"\"\n",
    "    def __init__(self, cantidad, valores):\n",
    "        self._cantidad = cantidad\n",
    "        self._valores = valores\n",
    "        \n",
    "    def distribucion_figs(self):\n",
    "        return [randint(1,self._valores) for _ in range(5)]\n"
   ]
  },
  {
   "cell_type": "code",
   "execution_count": 244,
   "metadata": {},
   "outputs": [],
   "source": [
    "class Simulacion(object):\n",
    "    \n",
    "    def __init__(self, amigos):\n",
    "        self.albumes_amigos = [Album(NRO_FIGURITAS) for _ in range(amigos)]\n",
    "    \n",
    "    def albumes_completos(self):\n",
    "        for a in self.albumes_amigos:\n",
    "            if not a.completo():\n",
    "                return False\n",
    "        return True\n",
    "        "
   ]
  },
  {
   "cell_type": "code",
   "execution_count": 286,
   "metadata": {},
   "outputs": [],
   "source": [
    "### VARIABLES GLOBALES PARA SIMULACION\n",
    "\n",
    "MAX_EXPERIMENTS = 10\n",
    "NRO_FIGURITAS= 650\n",
    "CANT_FIGURITA_SOBRE = 5\n",
    "AMIGOS = 20\n",
    "contadores = {e:None for e in range(MAX_EXPERIMENTS)}"
   ]
  },
  {
   "cell_type": "code",
   "execution_count": 294,
   "metadata": {},
   "outputs": [],
   "source": [
    "##Loop de simulación\n",
    "\n",
    "for e in range(MAX_EXPERIMENTS):\n",
    "    \n",
    "    contador_sobres = 0\n",
    "    \n",
    "    simulacion = Simulacion(AMIGOS)\n",
    "\n",
    "    sobre = Sobre(CANT_FIGURITA_SOBRE,NRO_FIGURITAS)\n",
    "    \n",
    "    while (not simulacion.albumes_completos()):\n",
    "        t = sobre.distribucion_figs()\n",
    "        contador_sobres +=1\n",
    "        for f in t:\n",
    "            for a in simulacion.albumes_amigos:\n",
    "                pude = a.pegar_figurita(f)\n",
    "                if pude:\n",
    "                    break\n",
    " \n",
    "    contadores[e] = math.ceil(contador_sobres / AMIGOS)"
   ]
  },
  {
   "cell_type": "code",
   "execution_count": null,
   "metadata": {},
   "outputs": [],
   "source": []
  },
  {
   "cell_type": "markdown",
   "metadata": {},
   "source": [
    "### Visualizaciones de estadisticas"
   ]
  },
  {
   "cell_type": "code",
   "execution_count": null,
   "metadata": {},
   "outputs": [],
   "source": [
    "import matplotlib.pyplot as plt\n",
    "plt.show()"
   ]
  },
  {
   "cell_type": "code",
   "execution_count": 127,
   "metadata": {},
   "outputs": [],
   "source": [
    "df = pd.DataFrame(contadores, index=[0]).T"
   ]
  },
  {
   "cell_type": "code",
   "execution_count": 128,
   "metadata": {},
   "outputs": [],
   "source": [
    "df.columns = ['QTY']"
   ]
  },
  {
   "cell_type": "code",
   "execution_count": 129,
   "metadata": {},
   "outputs": [],
   "source": [
    "df = df.T"
   ]
  },
  {
   "cell_type": "code",
   "execution_count": 130,
   "metadata": {},
   "outputs": [
    {
     "data": {
      "image/png": "[encoded data removed]",
      "text/plain": [
       "<Figure size 432x288 with 1 Axes>"
      ]
     },
     "metadata": {},
     "output_type": "display_data"
    }
   ],
   "source": [
    "hist = df.hist()"
   ]
  },
  {
   "cell_type": "code",
   "execution_count": 131,
   "metadata": {},
   "outputs": [],
   "source": []
  }
 ],
 "metadata": {
  "kernelspec": {
   "display_name": "Python 3",
   "language": "python",
   "name": "python3"
  },
  "language_info": {
   "codemirror_mode": {
    "name": "ipython",
    "version": 3
   },
   "file_extension": ".py",
   "mimetype": "text/x-python",
   "name": "python",
   "nbconvert_exporter": "python",
   "pygments_lexer": "ipython3",
   "version": "3.6.5"
  }
 },
 "nbformat": 4,
 "nbformat_minor": 2
}
